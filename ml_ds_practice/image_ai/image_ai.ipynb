{
 "cells": [
  {
   "cell_type": "markdown",
   "metadata": {},
   "source": [
    "# Image AI practice"
   ]
  },
  {
   "cell_type": "markdown",
   "metadata": {},
   "source": [
    "## Initialize imageai"
   ]
  },
  {
   "cell_type": "code",
   "execution_count": 2,
   "metadata": {},
   "outputs": [],
   "source": [
    "import os\n",
    "from os import listdir\n",
    "from os.path import isfile, join\n",
    "\n",
    "from imageai.Prediction import ImagePrediction\n",
    "\n",
    "# https://github.com/OlafenwaMoses/ImageAI\n",
    "\n",
    "execution_path = os.getcwd()\n",
    "\n",
    "prediction = ImagePrediction()\n",
    "prediction.setModelTypeAsSqueezeNet()\n",
    "prediction.setModelPath(join(execution_path, \"squeezenet_weights_tf_dim_ordering_tf_kernels.h5\"))\n",
    "prediction.loadModel()"
   ]
  },
  {
   "cell_type": "markdown",
   "metadata": {},
   "source": [
    "## Prepare images"
   ]
  },
  {
   "cell_type": "code",
   "execution_count": 4,
   "metadata": {},
   "outputs": [
    {
     "data": {
      "text/plain": [
       "['pentagram.png', 't-rex.jpeg', 'bass.jpg']"
      ]
     },
     "execution_count": 4,
     "metadata": {},
     "output_type": "execute_result"
    }
   ],
   "source": [
    "images_folder = join(execution_path, 'images')\n",
    "images = [f for f in listdir(images_folder) if isfile(join(images_folder, f))]\n",
    "images"
   ]
  },
  {
   "cell_type": "markdown",
   "metadata": {},
   "source": [
    "## Predict images"
   ]
  },
  {
   "cell_type": "code",
   "execution_count": 5,
   "metadata": {},
   "outputs": [
    {
     "name": "stdout",
     "output_type": "stream",
     "text": [
      "\n",
      " * Predicting - \"pentagram.png\"\n",
      "park_bench  :  35.45107543468475\n",
      "fire_screen  :  15.153728425502777\n",
      "cradle  :  9.11906585097313\n",
      "chainlink_fence  :  7.183883339166641\n",
      "ocarina  :  5.019886419177055\n",
      "\n",
      " * Predicting - \"t-rex.jpeg\"\n",
      "llama  :  33.38179886341095\n",
      "Scottish_deerhound  :  25.988897681236267\n",
      "African_hunting_dog  :  8.710421621799469\n",
      "Irish_wolfhound  :  6.667184829711914\n",
      "ibex  :  6.139251962304115\n",
      "\n",
      " * Predicting - \"bass.jpg\"\n",
      "electric_guitar  :  96.42117023468018\n",
      "acoustic_guitar  :  1.430612988770008\n",
      "hook  :  0.8983233012259007\n",
      "chime  :  0.4758100025355816\n",
      "banjo  :  0.2502875169739127\n"
     ]
    }
   ],
   "source": [
    "for image in images:\n",
    "    print(f'\\n * Predicting - \"{image}\"')\n",
    "    predictions, probabilities = prediction.predictImage(join(images_folder, image), result_count=5)\n",
    "    for eachPrediction, eachProbability in zip(predictions, probabilities):\n",
    "        print(eachPrediction, \" : \", eachProbability)"
   ]
  },
  {
   "cell_type": "markdown",
   "metadata": {},
   "source": [
    "## Result\n",
    "So as we can see, basic \"squeezenet\" is not so correct cause it has only 1 almost correct prediction <br>\n",
    "<ol>\n",
    "    <li> Pentagram - at least it should predict, that it's a star, or figure; </li>\n",
    "    <li> T-Rex - not even a dinosaur, or a lizard; </li>\n",
    "    <li> Bass - so, it predicted that it's a guitar and even electric guitar, but the main thing that it's a BASS. </li>\n",
    "</ol>"
   ]
  },
  {
   "cell_type": "code",
   "execution_count": null,
   "metadata": {},
   "outputs": [],
   "source": []
  }
 ],
 "metadata": {
  "kernelspec": {
   "display_name": "Python 3",
   "language": "python",
   "name": "python3"
  },
  "language_info": {
   "codemirror_mode": {
    "name": "ipython",
    "version": 3
   },
   "file_extension": ".py",
   "mimetype": "text/x-python",
   "name": "python",
   "nbconvert_exporter": "python",
   "pygments_lexer": "ipython3",
   "version": "3.8.0"
  }
 },
 "nbformat": 4,
 "nbformat_minor": 4
}
